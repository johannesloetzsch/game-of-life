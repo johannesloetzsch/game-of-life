{
 "cells": [
  {
   "cell_type": "code",
   "execution_count": 5,
   "id": "5261f688-41cd-4aa6-bed3-d7759e1da6cf",
   "metadata": {},
   "outputs": [],
   "source": [
    "import model"
   ]
  },
  {
   "cell_type": "code",
   "execution_count": null,
   "id": "4fa62c7f-63e5-48c7-bffe-899ffddc060f",
   "metadata": {},
   "outputs": [
    {
     "name": "stdout",
     "output_type": "stream",
     "text": [
      "simulate 5000 states…\n",
      "t_max=500\n",
      "✔ simulation finished\n",
      "render 50 frames with 2 fps…\n",
      "lin=0 => a=2.08, b=0.0\n"
     ]
    }
   ],
   "source": [
    "%run \"../src/__init__.py\"\n",
    "reload()\n",
    "\n",
    "model.plot()"
   ]
  },
  {
   "cell_type": "code",
   "execution_count": null,
   "id": "8a0cca47-e0cb-471f-b7d7-2d2ba647f952",
   "metadata": {},
   "outputs": [],
   "source": []
  }
 ],
 "metadata": {
  "kernelspec": {
   "display_name": "Python 3 (ipykernel)",
   "language": "python",
   "name": "python3"
  },
  "language_info": {
   "codemirror_mode": {
    "name": "ipython",
    "version": 3
   },
   "file_extension": ".py",
   "mimetype": "text/x-python",
   "name": "python",
   "nbconvert_exporter": "python",
   "pygments_lexer": "ipython3",
   "version": "3.11.6"
  }
 },
 "nbformat": 4,
 "nbformat_minor": 5
}
